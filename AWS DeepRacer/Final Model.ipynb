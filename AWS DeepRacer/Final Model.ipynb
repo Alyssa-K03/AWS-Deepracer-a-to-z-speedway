{
 "cells": [
  {
   "cell_type": "markdown",
   "metadata": {},
   "source": [
    "# Reward Function"
   ]
  },
  {
   "cell_type": "code",
   "execution_count": 1,
   "metadata": {},
   "outputs": [],
   "source": [
    "break_speed = 0.01\n",
    "\n",
    "def reward_function(params):\n",
    "    \n",
    "    # Track details\n",
    "    track_width = 1.7     \n",
    "    track_length = 16.64 \n",
    "\n",
    "    # input parameters\n",
    "    distance_from_center = params['distance_from_center']\n",
    "    all_wheels_on_track = params['all_wheels_on_track']\n",
    "    speed = params['speed']\n",
    "    closest_waypoints = params['closest_waypoints']\n",
    "    progress = params['progress']\n",
    "    steps = params['steps']\n",
    "    \n",
    "    # Calculate the distance from the nearest border\n",
    "    distance_from_border = 0.5 * track_width - distance_from_center\n",
    "\n",
    "    # Reward higher if the car stays inside the track borders (at least 5 cm away from the edge)\n",
    "    if distance_from_border >= 0.05:\n",
    "        center_line_reward = 1.0\n",
    "    else:\n",
    "        center_line_reward = 1e-3  # Low reward if too close to the border or off track\n",
    "\n",
    "    # Reward based on wheels on track and speed\n",
    "    SPEED_THRESHOLD = 1.0\n",
    "    wp_index = closest_waypoints[1]  \n",
    "    \n",
    "    if not all_wheels_on_track:\n",
    "        track_and_speed_reward = 1e-3\n",
    "    elif speed < SPEED_THRESHOLD:\n",
    "        track_and_speed_reward = 0.5\n",
    "    else:\n",
    "        track_and_speed_reward = 1.0\n",
    "\n",
    "    # Adjust reward based on specific waypoints and speed\n",
    "    if wp_index in range(22,40) or wp_index in range(50, 56) or wp_index in range(67, 72) or wp_index in range(80, 87) or wp_index in range(105, 112):\n",
    "        if speed >= 2.5:\n",
    "            track_and_speed_reward = break_speed\n",
    "\n",
    "    # Total number of steps we want the car to finish the lap\n",
    "    TOTAL_NUM_STEPS = 300\n",
    "    \n",
    "    # Initialize the reward\n",
    "    reward = center_line_reward * track_and_speed_reward\n",
    "    \n",
    "    # Add reward for progress every 100 steps, if faster than expected\n",
    "    if (steps % 100) == 0 and progress > (steps / TOTAL_NUM_STEPS) * 100:\n",
    "        reward += 10.0\n",
    "\n",
    "    return float(reward)\n"
   ]
  },
  {
   "cell_type": "markdown",
   "metadata": {},
   "source": [
    "# Action Space"
   ]
  },
  {
   "cell_type": "markdown",
   "metadata": {},
   "source": [
    "|No.|Steering angle|Speed(m/s)|\n",
    "|---|--------------|----------|\n",
    "|0 |12.3 |1.60|  \n",
    "|1 |-0.5 |3.90|\n",
    "|2 |9.6 |2.00|\n",
    "|4 |1.2 |2.50|\n",
    "|5 |-9.0 |1.70|\n",
    "|6 |14.9 |1.30|\n",
    "|7 |24.3 |1.50|\n",
    "|8 |4.1 |1.30|\n",
    "|9 |0.3 |3.40|\n",
    "|10 |-12.5 |2.50|\n",
    "|11 |-3.6 |2.10|\n",
    "|12 |4.2 |3.00|\n",
    "|13 |-18.5 |1.80|\n",
    "|14 |4.7 |1.60|\n",
    "|15 |13.3 |2.50|\n",
    "|16 |-6.3 |1.40|\n",
    "|17 |13.1 |3.60|\n",
    "|18 |-11.3 |3.30|\n",
    "|19 |30.0 |1.30|\n",
    "|20 |-30.0 |1.30|"
   ]
  },
  {
   "cell_type": "markdown",
   "metadata": {},
   "source": []
  },
  {
   "cell_type": "markdown",
   "metadata": {},
   "source": [
    "# Hyperparameters\n",
    "\n",
    "|Hyperparameter|Value|\n",
    "|--------------|-----|\n",
    "|Gradient descent batch size|128|\n",
    "|Entropy|0.04|\n",
    "|Discount factor|0.95|\n",
    "|Loss type|Huber|\n",
    "|Learning rate|0.0003|\n",
    "|Number of experience episodes between each policy-updating iteration|40|\n",
    "|Number of epochs|3|\n"
   ]
  },
  {
   "cell_type": "markdown",
   "metadata": {},
   "source": []
  }
 ],
 "metadata": {
  "kernelspec": {
   "display_name": "Python 3",
   "language": "python",
   "name": "python3"
  },
  "language_info": {
   "codemirror_mode": {
    "name": "ipython",
    "version": 3
   },
   "file_extension": ".py",
   "mimetype": "text/x-python",
   "name": "python",
   "nbconvert_exporter": "python",
   "pygments_lexer": "ipython3",
   "version": "3.12.3"
  }
 },
 "nbformat": 4,
 "nbformat_minor": 2
}
